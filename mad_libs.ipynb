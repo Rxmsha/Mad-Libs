{
 "cells": [
  {
   "cell_type": "code",
   "execution_count": 2,
   "metadata": {},
   "outputs": [],
   "source": [
    "#installs\n",
    "\n",
    "import re\n",
    "import nltk\n",
    "from nltk.corpus import stopwords\n",
    "from nltk.tokenize import word_tokenize\n",
    "from nltk.lm import MLE\n",
    "from nltk.util import everygrams"
   ]
  },
  {
   "cell_type": "code",
   "execution_count": 8,
   "metadata": {},
   "outputs": [],
   "source": [
    "#preprocessing data \n",
    "def preprocess_data(text):\n",
    "  #remove html tags\n",
    "  text = re.sub('<.*?>', '', text)\n",
    "\n",
    "  #convert text to lowercase\n",
    "  text = text.lower()\n",
    "\n",
    "  #remove punctuation\n",
    "  text = re.sub(f'[^\\w\\s]', '', text)\n",
    "\n",
    "  #remove stop words\n",
    "  stop_words = set(stopwords.words())\n",
    "\n",
    "  #tokenizing text - breaking sentence into words for faster labelling to parts of speech\n",
    "  tokens = word_tokenize(text)\n",
    "\n",
    "  #array of all of our words in the text\n",
    "  text = [word for word in tokens if word not in stop_words] \n"
   ]
  },
  {
   "cell_type": "code",
   "execution_count": 9,
   "metadata": {},
   "outputs": [
    {
     "name": "stderr",
     "output_type": "stream",
     "text": [
      "[nltk_data] Downloading package punkt to\n",
      "[nltk_data]     C:\\Users\\rimsh\\AppData\\Roaming\\nltk_data...\n",
      "[nltk_data]   Unzipping tokenizers\\punkt.zip.\n"
     ]
    },
    {
     "data": {
      "text/plain": [
       "True"
      ]
     },
     "execution_count": 9,
     "metadata": {},
     "output_type": "execute_result"
    }
   ],
   "source": [
    "#nltk installs\n",
    "nltk.download('punkt')\n"
   ]
  },
  {
   "cell_type": "code",
   "execution_count": 28,
   "metadata": {},
   "outputs": [],
   "source": [
    "#language model function\n",
    "def language_model(text_data):\n",
    "\n",
    "    # tokens is a list of lists, where each list is a sentence in the text data - each item in the sub-list is a word in the sentence\n",
    "    \n",
    "    #[[sentence1], [sentence2], [sentence3], [sentence4], [sentence5], [sentence6], [sentence7]] = text_data\n",
    "\n",
    "    tokens = [word_tokenize(sentence) for sentence in text_data]\n",
    "    tokens = [word for sublist in tokens for word in sublist]\n",
    "    bigrams = list(everygrams(tokens, max_len=2))\n",
    "\n",
    "    if bigrams: \n",
    "        language_model = MLE(2)\n",
    "\n",
    "        vocabulary = nltk.lm.Vocabulary(tokens) \n",
    "        language_model.fit([bigrams], vocabulary)\n",
    "        return language_model\n",
    "\n",
    "    else: \n",
    "        print(\"No bigrams found. Please input valid text data.\")\n",
    "        return None\n",
    "\n",
    "text_data = [\n",
    "    \"The quick brown fox jumps over the lazy dog.\",\n",
    "    \"She sells sea shells by the sea shore.\",\n",
    "    \"The cat in the hat plays with the dog in the fog.\",\n",
    "    \"To be or not to be, that is the question.\",\n",
    "    \"All's well that ends well.\",\n",
    "    \"A stitch in time saves nine.\",\n",
    "    \"The early bird catches the worm.\",\n",
    "    \"Two households, both alike in dignity\\nIn fair Verona, where we lay our scene\\nFrom ancient grudge break to new mutiny\\nWhere civil blood makes civil hands unclean.\",\n",
    "    \"From forth the fatal loins of these two foes\\nA pair of star-crossed lovers take their life;\",\n",
    "    \"Whose misadventured piteous overthrow \\n Doth with their death bury their parents’ strife.\",\n",
    "    \"The fearful passage of their death-marked love\\nAnd the continuance of their parents’ rage,\\nWhich, but their children’s end, naught could remove,\\nIs now the two hours’ traffic of our stage;\"\n",
    "]\n",
    "\n",
    "language_model = language_model(text_data)\n",
    "\n",
    "\n",
    "                    \n"
   ]
  },
  {
   "cell_type": "code",
   "execution_count": 31,
   "metadata": {},
   "outputs": [
    {
     "name": "stdout",
     "output_type": "stream",
     "text": [
      "Two dino, both alike in big\n",
      "In humongous Verona, where we runs our cat\n",
      "From lovely grudge eats to softly mutiny\n",
      "Where loud blood chews civil stick thin.\n"
     ]
    }
   ],
   "source": [
    "#generate mad libs\n",
    "def generate_mad_libs(template, language_model):\n",
    "  placeholders = re.findall(r'\\{(.*?)\\}', template)\n",
    "  mad_libs = template\n",
    "\n",
    "  for i in placeholders:\n",
    "    if i == \"noun\":\n",
    "      replacement = input(\"Enter a noun: \")\n",
    "    elif i == \"verb\":\n",
    "      replacement = input(\"Enter a verb: \")\n",
    "    elif i == \"adjective\":\n",
    "      replacement = input(\"Enter a adjective: \")\n",
    "    elif i == \"adverb\":\n",
    "      replacement = input(\"Enter a adverb: \")\n",
    "    else:\n",
    "      replacement = input(\"Enter a randoom word: \")\n",
    "    \n",
    "    mad_libs = mad_libs.replace(f\"{{{i}}}\", replacement, 1)\n",
    "  \n",
    "  return mad_libs\n",
    "\n",
    "template = \"The {adjective} {noun} {verb} {adverb} through the {adjective} forest. Then, all of a sudden, the {adjective} {noun} {adverb} {verb}! It was so {adjective} that {noun} {adverb} {verb} away. Written by {noun} and {noun}.\"\n",
    "\n",
    "shakespeare_template = \"Two {noun}, both alike in {adjective}\\nIn {adjective} Verona, where we {verb} our {noun}\\nFrom {adjective} grudge {verb} to {adjective} mutiny\\nWhere {adjective} blood {verb} civil {noun} {adjective}.\"\n",
    "\n",
    "#finished_mad_libs = generate_mad_libs(template, language_model)\n",
    "finished_mad_libs = generate_mad_libs(shakespeare_template, language_model)\n",
    "\n",
    "print(finished_mad_libs)\n",
    "\n"
   ]
  }
 ],
 "metadata": {
  "kernelspec": {
   "display_name": "Python 3",
   "language": "python",
   "name": "python3"
  },
  "language_info": {
   "codemirror_mode": {
    "name": "ipython",
    "version": 3
   },
   "file_extension": ".py",
   "mimetype": "text/x-python",
   "name": "python",
   "nbconvert_exporter": "python",
   "pygments_lexer": "ipython3",
   "version": "3.11.8"
  }
 },
 "nbformat": 4,
 "nbformat_minor": 2
}
